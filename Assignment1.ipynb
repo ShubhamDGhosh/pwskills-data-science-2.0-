{
 "cells": [
  {
   "cell_type": "markdown",
   "id": "13c8e121-b268-4301-a255-5b2a04021664",
   "metadata": {},
   "source": [
    "Q1. Create one variable containing following type of data:\n",
    "(i) string\n",
    "(ii) list\n",
    "(iii) float\n",
    "(iv) tuple\n"
   ]
  },
  {
   "cell_type": "code",
   "execution_count": 5,
   "id": "d524dcab-3d27-4a80-8ac4-fc81c83607b8",
   "metadata": {},
   "outputs": [],
   "source": [
    "a =\"Hello\"\n",
    "b=[1,2,3,4,'hello',4.56]\n",
    "c=3.45\n",
    "d=(1,2,3,4,'hello',4.56)"
   ]
  },
  {
   "cell_type": "code",
   "execution_count": 7,
   "id": "6a7537c3-d8c0-4d26-aa68-9525aa5ac1f7",
   "metadata": {},
   "outputs": [
    {
     "data": {
      "text/plain": [
       "str"
      ]
     },
     "execution_count": 7,
     "metadata": {},
     "output_type": "execute_result"
    }
   ],
   "source": [
    "type(a)"
   ]
  },
  {
   "cell_type": "code",
   "execution_count": 8,
   "id": "62b15cb3-c2c6-4cf3-8b18-81a4c6a1605d",
   "metadata": {},
   "outputs": [
    {
     "data": {
      "text/plain": [
       "list"
      ]
     },
     "execution_count": 8,
     "metadata": {},
     "output_type": "execute_result"
    }
   ],
   "source": [
    "type(b)"
   ]
  },
  {
   "cell_type": "code",
   "execution_count": 9,
   "id": "c957468e-1e88-4aec-a366-a30c5f1840b7",
   "metadata": {},
   "outputs": [
    {
     "data": {
      "text/plain": [
       "float"
      ]
     },
     "execution_count": 9,
     "metadata": {},
     "output_type": "execute_result"
    }
   ],
   "source": [
    "type(c)"
   ]
  },
  {
   "cell_type": "code",
   "execution_count": 10,
   "id": "2cc6a647-2fb0-404c-8834-1c04b5392e48",
   "metadata": {},
   "outputs": [
    {
     "data": {
      "text/plain": [
       "tuple"
      ]
     },
     "execution_count": 10,
     "metadata": {},
     "output_type": "execute_result"
    }
   ],
   "source": [
    "type(d)"
   ]
  },
  {
   "cell_type": "markdown",
   "id": "3b8b5cd1-406f-4be3-8ff8-a2e3bdd31685",
   "metadata": {},
   "source": [
    "Q2. Given are some following variables containing data:\n",
    "(i) var1 = ''\n",
    "(ii) var2 = ‘[ DS , ML , Python]’\n",
    "(iii) var3 = [ ‘DS’ , ’ML’ , ‘Python’ ]\n",
    "(iv) var4 = 1.\n",
    "What will be the data type of the above given variable."
   ]
  },
  {
   "cell_type": "code",
   "execution_count": 12,
   "id": "e81a4c45-9984-4e49-a00d-ef8aeef4ffef",
   "metadata": {},
   "outputs": [
    {
     "data": {
      "text/plain": [
       "str"
      ]
     },
     "execution_count": 12,
     "metadata": {},
     "output_type": "execute_result"
    }
   ],
   "source": [
    "var1 = ''\n",
    "type(var1)"
   ]
  },
  {
   "cell_type": "code",
   "execution_count": 14,
   "id": "f9d9f766-96c2-4841-91dc-06462e32e395",
   "metadata": {},
   "outputs": [
    {
     "data": {
      "text/plain": [
       "str"
      ]
     },
     "execution_count": 14,
     "metadata": {},
     "output_type": "execute_result"
    }
   ],
   "source": [
    "var2 = '[ DS , ML , Python]'\n",
    "type(var2)"
   ]
  },
  {
   "cell_type": "code",
   "execution_count": 16,
   "id": "67a8f486-3b6c-45d7-bf06-8a73e9f9138a",
   "metadata": {},
   "outputs": [
    {
     "data": {
      "text/plain": [
       "list"
      ]
     },
     "execution_count": 16,
     "metadata": {},
     "output_type": "execute_result"
    }
   ],
   "source": [
    "var3 = [ 'DS' , 'ML' , 'Python' ]\n",
    "type(var3)"
   ]
  },
  {
   "cell_type": "code",
   "execution_count": 17,
   "id": "705a93bd-4959-4fd9-b0c3-c15863c6e6f5",
   "metadata": {},
   "outputs": [
    {
     "data": {
      "text/plain": [
       "int"
      ]
     },
     "execution_count": 17,
     "metadata": {},
     "output_type": "execute_result"
    }
   ],
   "source": [
    "var4=1\n",
    "type(var4)"
   ]
  },
  {
   "cell_type": "markdown",
   "id": "7abc4037-57ea-4dd1-9b74-59e46d731731",
   "metadata": {},
   "source": [
    "Q3. Explain the use of the following operators using an example:\n",
    "(i) /\n",
    "(ii) %\n",
    "(iii) //\n",
    "(iv) **"
   ]
  },
  {
   "cell_type": "code",
   "execution_count": 18,
   "id": "da7f08ea-92c7-4892-b873-88ddcb342bc6",
   "metadata": {},
   "outputs": [
    {
     "data": {
      "text/plain": [
       "0"
      ]
     },
     "execution_count": 18,
     "metadata": {},
     "output_type": "execute_result"
    }
   ],
   "source": [
    "5//6\n",
    "#use of // is used for floor division"
   ]
  },
  {
   "cell_type": "code",
   "execution_count": 19,
   "id": "e9aed056-fd0a-4004-937c-39b49d7477ce",
   "metadata": {},
   "outputs": [
    {
     "data": {
      "text/plain": [
       "5"
      ]
     },
     "execution_count": 19,
     "metadata": {},
     "output_type": "execute_result"
    }
   ],
   "source": [
    "5%6\n",
    "#use of % is used for modulus"
   ]
  },
  {
   "cell_type": "code",
   "execution_count": 20,
   "id": "0b0e32ec-8be4-4c8b-be1a-73b52ed87d9b",
   "metadata": {},
   "outputs": [
    {
     "data": {
      "text/plain": [
       "0.8333333333333334"
      ]
     },
     "execution_count": 20,
     "metadata": {},
     "output_type": "execute_result"
    }
   ],
   "source": [
    "5/6\n",
    "#use of / is used for division"
   ]
  },
  {
   "cell_type": "code",
   "execution_count": 21,
   "id": "75f091b9-1d09-4280-b363-c7b77f4db97d",
   "metadata": {},
   "outputs": [
    {
     "data": {
      "text/plain": [
       "15625"
      ]
     },
     "execution_count": 21,
     "metadata": {},
     "output_type": "execute_result"
    }
   ],
   "source": [
    "5**6\n",
    "# ** is used for exponentiation"
   ]
  },
  {
   "cell_type": "markdown",
   "id": "8a44f9b9-e264-47e5-9fa0-5f19874566e8",
   "metadata": {},
   "source": [
    "Q4. Create a list of length 10 of your choice containing multiple types of data. Using for loop print the\n",
    "element and its data type."
   ]
  },
  {
   "cell_type": "code",
   "execution_count": 24,
   "id": "2e44a79a-b019-48e9-a7dc-93ef66a3f094",
   "metadata": {},
   "outputs": [
    {
     "name": "stdout",
     "output_type": "stream",
     "text": [
      "1 <class 'int'>\n",
      "2 <class 'int'>\n",
      "3 <class 'int'>\n",
      "4 <class 'int'>\n",
      "hello <class 'str'>\n",
      "4.56 <class 'float'>\n",
      "a <class 'str'>\n",
      "b <class 'str'>\n",
      "46 <class 'int'>\n",
      "10 <class 'int'>\n"
     ]
    }
   ],
   "source": [
    "list=[1,2,3,4,'hello',4.56,'a','b',46,10]\n",
    "for i in list:\n",
    "    print(i,type(i))"
   ]
  },
  {
   "cell_type": "markdown",
   "id": "de27e857-c9b1-46b7-8b93-17682e8ae7a6",
   "metadata": {},
   "source": [
    "Q5. Using a while loop, verify if the number A is purely divisible by number B and if so then how many\n",
    "times it can be divisible."
   ]
  },
  {
   "cell_type": "code",
   "execution_count": 8,
   "id": "7b835b29-99f6-453d-9837-f647a3380493",
   "metadata": {},
   "outputs": [
    {
     "name": "stdin",
     "output_type": "stream",
     "text": [
      "Enter a  4\n",
      "Enter b 2\n"
     ]
    },
    {
     "name": "stdout",
     "output_type": "stream",
     "text": [
      "a is purely divisible by b.It can be divided 2 times.\n"
     ]
    }
   ],
   "source": [
    "a=int(input('Enter a '))\n",
    "b=int(input('Enter b'))\n",
    "while a%b==0:\n",
    "    times_divisible = a // b\n",
    "    print(f'a is purely divisible by b.It can be divided {times_divisible} times.')\n",
    "    break\n",
    "else:\n",
    "     print('a is not divisible by b')"
   ]
  },
  {
   "cell_type": "markdown",
   "id": "08c44c02-f96c-4096-9ca1-adbcfe219a16",
   "metadata": {},
   "source": [
    "Q6. Create a list containing 25 int type data. Using for loop and if-else condition print if the element is\n",
    "divisible by 3 or not."
   ]
  },
  {
   "cell_type": "code",
   "execution_count": 14,
   "id": "7293f1c9-45db-4aae-9c13-a8a4c105dd61",
   "metadata": {},
   "outputs": [
    {
     "name": "stdout",
     "output_type": "stream",
     "text": [
      "there are numbers which are divisible by 3\n"
     ]
    }
   ],
   "source": [
    "list=[1,2,3,4,5,6,7,8,9,10,11,12,13,14,15,16,17,18,19,20,21,22,23,24,25]\n",
    "divisible_by_3=False\n",
    "for i in list:\n",
    "    if i%3==0:\n",
    "        divisible_by_3=True\n",
    "        break\n",
    "if divisible_by_3:\n",
    "        print('there are numbers which are divisible by 3')\n",
    "else:\n",
    "         print('No numbers are indivisible by 3')"
   ]
  },
  {
   "cell_type": "markdown",
   "id": "72c7dc37-e153-4df2-8c4f-3d31f62a29f3",
   "metadata": {},
   "source": [
    "Q7. What do you understand about mutable and immutable data types? Give examples for both showing\n",
    "this property."
   ]
  },
  {
   "cell_type": "code",
   "execution_count": 16,
   "id": "de8d9603-6fad-4186-952f-6b922d24d54f",
   "metadata": {},
   "outputs": [
    {
     "data": {
      "text/plain": [
       "5"
      ]
     },
     "execution_count": 16,
     "metadata": {},
     "output_type": "execute_result"
    }
   ],
   "source": [
    "# list\n",
    "l=[4,5,6,7,8,9,10]\n",
    "l[1]\n"
   ]
  },
  {
   "cell_type": "code",
   "execution_count": 19,
   "id": "4ae7950c-6e7d-4fc1-ba51-6d8799e8f9b7",
   "metadata": {},
   "outputs": [],
   "source": [
    "l[1]=6\n",
    "l.append(11)"
   ]
  },
  {
   "cell_type": "code",
   "execution_count": 20,
   "id": "f2c8d583-2ce1-4914-b41c-8958694c5434",
   "metadata": {},
   "outputs": [
    {
     "data": {
      "text/plain": [
       "[4, 6, 6, 7, 8, 9, 10, 11]"
      ]
     },
     "execution_count": 20,
     "metadata": {},
     "output_type": "execute_result"
    }
   ],
   "source": [
    "l"
   ]
  },
  {
   "cell_type": "markdown",
   "id": "bc1a5ad3-ccef-4eea-8b72-b148e55c30b8",
   "metadata": {},
   "source": [
    "Above examples shows that list is a mutable data type, here we can update the value in the list or add a new value in the list \n",
    "this are the freatures in case of mutable datatypes"
   ]
  },
  {
   "cell_type": "code",
   "execution_count": 21,
   "id": "4fbd471c-a624-43d2-8a7a-6738a0a92627",
   "metadata": {},
   "outputs": [],
   "source": [
    "str='hello'\n"
   ]
  },
  {
   "cell_type": "code",
   "execution_count": 22,
   "id": "0dfb22b6-357c-4dd6-adc7-6031c57a695e",
   "metadata": {},
   "outputs": [
    {
     "data": {
      "text/plain": [
       "'h'"
      ]
     },
     "execution_count": 22,
     "metadata": {},
     "output_type": "execute_result"
    }
   ],
   "source": [
    "str[0]"
   ]
  },
  {
   "cell_type": "code",
   "execution_count": null,
   "id": "097d36bd-ab13-42b7-bc17-3fce69c840b4",
   "metadata": {},
   "outputs": [],
   "source": [
    "str[0]='"
   ]
  }
 ],
 "metadata": {
  "kernelspec": {
   "display_name": "Python 3 (ipykernel)",
   "language": "python",
   "name": "python3"
  },
  "language_info": {
   "codemirror_mode": {
    "name": "ipython",
    "version": 3
   },
   "file_extension": ".py",
   "mimetype": "text/x-python",
   "name": "python",
   "nbconvert_exporter": "python",
   "pygments_lexer": "ipython3",
   "version": "3.10.8"
  }
 },
 "nbformat": 4,
 "nbformat_minor": 5
}
