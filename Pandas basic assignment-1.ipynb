{
 "cells": [
  {
   "cell_type": "markdown",
   "id": "11eb1c29-8fb9-4b1a-9ea0-02b0bd882d81",
   "metadata": {},
   "source": [
    "Q1. Create a Pandas Series that contains the following data: 4, 8, 15, 16, 23, and 42. Then, print the series."
   ]
  },
  {
   "cell_type": "code",
   "execution_count": 1,
   "id": "60537f0b-0d1f-4156-b271-000813244928",
   "metadata": {},
   "outputs": [],
   "source": [
    "import pandas as pd"
   ]
  },
  {
   "cell_type": "code",
   "execution_count": 8,
   "id": "06efd568-0e77-4ebf-a858-31f965e42d21",
   "metadata": {},
   "outputs": [
    {
     "data": {
      "text/plain": [
       "0     4\n",
       "1     8\n",
       "2    15\n",
       "3    16\n",
       "4    23\n",
       "5    42\n",
       "dtype: int64"
      ]
     },
     "execution_count": 8,
     "metadata": {},
     "output_type": "execute_result"
    }
   ],
   "source": [
    "df = pd.Series([4,8,15,16,23,42])\n",
    "df\n"
   ]
  },
  {
   "cell_type": "markdown",
   "id": "bbc6b786-ccf0-4a25-a05e-1a2e9daf495d",
   "metadata": {},
   "source": [
    "Q2. Create a variable of list type containing 10 elements in it, and apply pandas.Series function on the\n",
    "variable print it."
   ]
  },
  {
   "cell_type": "code",
   "execution_count": 10,
   "id": "1d53525e-e317-4bf5-b398-a33567dd18c9",
   "metadata": {},
   "outputs": [
    {
     "data": {
      "text/plain": [
       "0     1\n",
       "1     2\n",
       "2     3\n",
       "3     4\n",
       "4     5\n",
       "5     6\n",
       "6     7\n",
       "7     8\n",
       "8     9\n",
       "9    10\n",
       "dtype: int64"
      ]
     },
     "execution_count": 10,
     "metadata": {},
     "output_type": "execute_result"
    }
   ],
   "source": [
    "x=[1,2,3,4,5,6,7,8,9,10]\n",
    "df=pd.Series(x)\n",
    "df"
   ]
  },
  {
   "cell_type": "markdown",
   "id": "ad700517-24d7-46e8-89ad-47a130d59432",
   "metadata": {},
   "source": [
    "Q3. Create a Pandas DataFrame that contains the following data:\n",
    "\n",
    "\n",
    "Name\n",
    "Alice\n",
    "Bob\n",
    "Claire\n",
    "\n",
    "Age\n",
    "25\n",
    "30\n",
    "27\n",
    "\n",
    "Gender\n",
    "Female\n",
    "Male\n",
    "Female"
   ]
  },
  {
   "cell_type": "code",
   "execution_count": 18,
   "id": "46300e83-f65e-40f6-a580-9966cf41e15b",
   "metadata": {},
   "outputs": [
    {
     "data": {
      "text/html": [
       "<div>\n",
       "<style scoped>\n",
       "    .dataframe tbody tr th:only-of-type {\n",
       "        vertical-align: middle;\n",
       "    }\n",
       "\n",
       "    .dataframe tbody tr th {\n",
       "        vertical-align: top;\n",
       "    }\n",
       "\n",
       "    .dataframe thead th {\n",
       "        text-align: right;\n",
       "    }\n",
       "</style>\n",
       "<table border=\"1\" class=\"dataframe\">\n",
       "  <thead>\n",
       "    <tr style=\"text-align: right;\">\n",
       "      <th></th>\n",
       "      <th>Name</th>\n",
       "      <th>Age</th>\n",
       "      <th>Gender</th>\n",
       "    </tr>\n",
       "  </thead>\n",
       "  <tbody>\n",
       "    <tr>\n",
       "      <th>0</th>\n",
       "      <td>Alice</td>\n",
       "      <td>25</td>\n",
       "      <td>Female</td>\n",
       "    </tr>\n",
       "    <tr>\n",
       "      <th>1</th>\n",
       "      <td>Bob</td>\n",
       "      <td>30</td>\n",
       "      <td>Male</td>\n",
       "    </tr>\n",
       "    <tr>\n",
       "      <th>2</th>\n",
       "      <td>Claire</td>\n",
       "      <td>27</td>\n",
       "      <td>Female</td>\n",
       "    </tr>\n",
       "  </tbody>\n",
       "</table>\n",
       "</div>"
      ],
      "text/plain": [
       "     Name  Age  Gender\n",
       "0   Alice   25  Female\n",
       "1     Bob   30    Male\n",
       "2  Claire   27  Female"
      ]
     },
     "execution_count": 18,
     "metadata": {},
     "output_type": "execute_result"
    }
   ],
   "source": [
    "a={\"Name\":['Alice','Bob','Claire'],\"Age\":[25,30,27],\"Gender\":['Female','Male','Female']}\n",
    "data=pd.DataFrame(a)\n",
    "data"
   ]
  },
  {
   "cell_type": "markdown",
   "id": "5b8a9220-d59b-4f3d-adb3-27ac1c7def8b",
   "metadata": {},
   "source": [
    "Q4. What is ‘DataFrame’ in pandas and how is it different from pandas.series? Explain with an example."
   ]
  },
  {
   "cell_type": "markdown",
   "id": "63dacc39-7da3-4a61-b419-2ca7dad49988",
   "metadata": {},
   "source": [
    " Dataframe consist of data,rows and columns.DataFrames can be created from various data sources, such as dictionaries, lists, NumPy arrays, CSV files, Excel files, SQL databases, and more.\n",
    " \n",
    " \n",
    " \n",
    " a DataFrame is a collection of Series, where each column represents a Series of data, while a Series is a single column of data. DataFrames are used to work with structured data that contains multiple attributes or columns, while Series are used to work with one-dimensional data.\n",
    " \n",
    " Examples are given below:"
   ]
  },
  {
   "cell_type": "code",
   "execution_count": 16,
   "id": "a41c04be-bb8c-4bb2-a98f-188fd88afa36",
   "metadata": {},
   "outputs": [],
   "source": [
    "#1.DataFrame\n",
    "data = {\n",
    "    'Name': ['Alice', 'Bob', 'Charlie'],\n",
    "    'Age': [25, 30, 22]\n",
    "}\n",
    "\n",
    "df = pd.DataFrame(data)"
   ]
  },
  {
   "cell_type": "code",
   "execution_count": 17,
   "id": "70c1a3ad-c3f8-426d-aa15-030bd386381f",
   "metadata": {},
   "outputs": [
    {
     "data": {
      "text/html": [
       "<div>\n",
       "<style scoped>\n",
       "    .dataframe tbody tr th:only-of-type {\n",
       "        vertical-align: middle;\n",
       "    }\n",
       "\n",
       "    .dataframe tbody tr th {\n",
       "        vertical-align: top;\n",
       "    }\n",
       "\n",
       "    .dataframe thead th {\n",
       "        text-align: right;\n",
       "    }\n",
       "</style>\n",
       "<table border=\"1\" class=\"dataframe\">\n",
       "  <thead>\n",
       "    <tr style=\"text-align: right;\">\n",
       "      <th></th>\n",
       "      <th>Name</th>\n",
       "      <th>Age</th>\n",
       "    </tr>\n",
       "  </thead>\n",
       "  <tbody>\n",
       "    <tr>\n",
       "      <th>0</th>\n",
       "      <td>Alice</td>\n",
       "      <td>25</td>\n",
       "    </tr>\n",
       "    <tr>\n",
       "      <th>1</th>\n",
       "      <td>Bob</td>\n",
       "      <td>30</td>\n",
       "    </tr>\n",
       "    <tr>\n",
       "      <th>2</th>\n",
       "      <td>Charlie</td>\n",
       "      <td>22</td>\n",
       "    </tr>\n",
       "  </tbody>\n",
       "</table>\n",
       "</div>"
      ],
      "text/plain": [
       "      Name  Age\n",
       "0    Alice   25\n",
       "1      Bob   30\n",
       "2  Charlie   22"
      ]
     },
     "execution_count": 17,
     "metadata": {},
     "output_type": "execute_result"
    }
   ],
   "source": [
    "df"
   ]
  },
  {
   "cell_type": "code",
   "execution_count": 19,
   "id": "4e8b3b80-c389-4d66-9a34-3f14bec2a75c",
   "metadata": {},
   "outputs": [
    {
     "data": {
      "text/plain": [
       "0    a\n",
       "1    b\n",
       "2    c\n",
       "3    d\n",
       "4    e\n",
       "dtype: object"
      ]
     },
     "execution_count": 19,
     "metadata": {},
     "output_type": "execute_result"
    }
   ],
   "source": [
    "#2 Series\n",
    "x=['a','b','c','d','e']\n",
    "df=pd.Series(x)\n",
    "df\n",
    "\n"
   ]
  },
  {
   "cell_type": "markdown",
   "id": "8ada22c0-ec3a-4b57-9c37-cc1334a5a14b",
   "metadata": {},
   "source": [
    "Q5. What are some common functions you can use to manipulate data in a Pandas DataFrame? Can\n",
    "you give an example of when you might use one of these functions?"
   ]
  },
  {
   "cell_type": "markdown",
   "id": "711ae2bf-774f-4741-90a6-e242fb771a22",
   "metadata": {},
   "source": [
    "Ans:- These are the most common functions used to manipulate data in a Pandas DataFrame:\n",
    "1.column :-df.column to find the columns present in the DataFrame\n",
    "2.Head and Tail :- df.head(),df.tail() this functions provide first 5 rows(in case of head) and last 5 rows(in case of tail)\n",
    "3.shape-size-info  function:- df.shape, df.size,df.info()\n",
    "4.isna :- if one needs to get the total number of null values in a data, we can use df.isna() \n"
   ]
  },
  {
   "cell_type": "markdown",
   "id": "482ba18e-866c-4421-b05e-ff5ff87dcc8f",
   "metadata": {},
   "source": [
    "Q6. Which of the following is mutable in nature Series, DataFrame, Panel?"
   ]
  },
  {
   "cell_type": "markdown",
   "id": "93687f67-4b1c-4afa-9320-3e31ab5b1459",
   "metadata": {},
   "source": [
    "Ans:- the Pandas library in Python includes Series, DataFrame, and Panel data structures. Here's the mutability status of each:\n",
    "\n",
    "Series: Series objects in Pandas are mutable, meaning you can change the values of elements within a Series after it has been created. You can assign new values to specific elements using indexing.\n",
    "\n",
    "DataFrame: DataFrames are also mutable. You can modify the data within a DataFrame, such as changing values in cells, adding or removing rows or columns, and more.\n",
    "\n",
    "Panel: Panels were used in earlier versions of Pandas to handle 3D data, but they have been removed in recent versions (Pandas 0.25.0 onwards) because they were rarely used and less versatile than DataFrames. Therefore, Panels are not relevant in more recent versions of Pandas, and you should use DataFrames and Series for data manipulation.\n",
    "\n",
    "Keep in mind that software libraries like Pandas can evolve over time, so it's essential to check the documentation and"
   ]
  },
  {
   "cell_type": "markdown",
   "id": "7eaa9580-acc9-4022-8b28-dffbd33f084d",
   "metadata": {},
   "source": []
  },
  {
   "cell_type": "code",
   "execution_count": 1,
   "id": "6ed500ba-d1f7-41d7-8045-f70aac2035f1",
   "metadata": {},
   "outputs": [
    {
     "name": "stdout",
     "output_type": "stream",
     "text": [
      "      Name  Age  Fare\n",
      "0     John   30  50.5\n",
      "1    Alice   25  45.2\n",
      "2      Bob   35  60.0\n",
      "3      Eve   28  55.7\n",
      "4  Charlie   22  40.3\n"
     ]
    }
   ],
   "source": [
    "import pandas as pd\n",
    "\n",
    "# Example Series 1: Passenger Names\n",
    "names = pd.Series(['John', 'Alice', 'Bob', 'Eve', 'Charlie'])\n",
    "\n",
    "# Example Series 2: Passenger Ages\n",
    "ages = pd.Series([30, 25, 35, 28, 22])\n",
    "\n",
    "# Example Series 3: Passenger Fares\n",
    "fares = pd.Series([50.5, 45.2, 60.0, 55.7, 40.3])\n",
    "\n",
    "# Create a DataFrame using the Series\n",
    "passenger_data = pd.DataFrame({'Name': names, 'Age': ages, 'Fare': fares})\n",
    "\n",
    "# Display the resulting DataFrame\n",
    "print(passenger_data)\n"
   ]
  },
  {
   "cell_type": "code",
   "execution_count": null,
   "id": "decc38b5-e8a8-48d5-98a4-6232e95997aa",
   "metadata": {},
   "outputs": [],
   "source": []
  }
 ],
 "metadata": {
  "kernelspec": {
   "display_name": "Python 3 (ipykernel)",
   "language": "python",
   "name": "python3"
  },
  "language_info": {
   "codemirror_mode": {
    "name": "ipython",
    "version": 3
   },
   "file_extension": ".py",
   "mimetype": "text/x-python",
   "name": "python",
   "nbconvert_exporter": "python",
   "pygments_lexer": "ipython3",
   "version": "3.10.8"
  }
 },
 "nbformat": 4,
 "nbformat_minor": 5
}
