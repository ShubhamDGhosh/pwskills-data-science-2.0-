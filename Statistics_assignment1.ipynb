{
 "cells": [
  {
   "cell_type": "markdown",
   "id": "5f8c6aa2-0b91-423c-b143-0810f9233fa7",
   "metadata": {},
   "source": [
    "Q1] What is Statistics?"
   ]
  },
  {
   "cell_type": "markdown",
   "id": "2ebcd1e9-852f-4a20-8b80-2b6cf072839b",
   "metadata": {},
   "source": [
    "Statistics is the science behind the collecting ,organizing and analyzing of the data.\n",
    "Certainly! Here's a simple definition of statistics:\n",
    "\n",
    "**Statistics** is a branch of mathematics and a scientific discipline that involves collecting, organizing, analyzing, interpreting, and presenting data. It is used to summarize and make sense of numerical information, helping people draw conclusions and make informed decisions based on data. Statistics plays a crucial role in various fields, including science, business, economics, social sciences, and more, by providing methods for understanding and describing patterns and relationships within data."
   ]
  },
  {
   "cell_type": "markdown",
   "id": "034d95a0-6268-4b7c-abfd-ef67e7618ac8",
   "metadata": {},
   "source": [
    "Q2. Define the different types of statistics and give an example of when each type might be used."
   ]
  },
  {
   "cell_type": "markdown",
   "id": "aa0e65e2-d95f-4ca8-ba2f-3ca91683101e",
   "metadata": {},
   "source": [
    "Statistics is divided into 2 type:\n",
    "1.Descriptive Statistics:It consist of organizing and summarizing data.\n",
    "\n",
    "example : Suppose in a college IQ of the students of ComputerScience branch are measured :\n",
    "         \n",
    "         IQ=[70,80,100,90,95,85]\n",
    "      And We have asked to find the avg IQ of the the total branch \n",
    "      so avg=[70+80+100+90+95+85/6]\n",
    "\n",
    "\n",
    "\n",
    "\n",
    "\n",
    "2.Inferential Statistics:It is forming an conclusion related to the population with the help of sample data,Where sample data is the subset of the Population and population is the large group we are interested to study.\n",
    "\n",
    "example: Suppose in a college IQ of the students of ComputerScience branch are measured :\n",
    "    \"Are the IQ of the ComputerScience branch is similar to Whole college\""
   ]
  },
  {
   "cell_type": "markdown",
   "id": "4a91e35d-7cde-41a8-902f-cc74c0506255",
   "metadata": {},
   "source": [
    "Q3. What are the different types of data and how do they differ from each other? Provide an example of\n",
    "each type of data."
   ]
  },
  {
   "cell_type": "markdown",
   "id": "840329d2-0141-4960-a26b-3cb203b087db",
   "metadata": {},
   "source": [
    "\n",
    "\n",
    "data:-Facts or pieces of information\n",
    "                                                                              Data\n",
    "                                                                              \n",
    "                                                     Quatitative Data                         Qualitative Data\n",
    "                                                      i)Related to numerical data            i)Related to Categorical Data\n",
    "                                                      eg:height,Weight,count ,etc              eg: Gender,Remarks,etc\n",
    "                                                      Futher divided into :                    Futher divided into :\n",
    "                                                   1. Discrete             2. Continuous             1.Nominal                      2. Ordinal\n",
    "                                                    eg:no of students     eg:Height,Weight,etc   eg:Male/Female,address,etc     Based on rank\n",
    "                                                                                                                            eg: good,avg,bad"
   ]
  },
  {
   "cell_type": "markdown",
   "id": "52914ddb-5f53-4a65-8912-1805f7f253e8",
   "metadata": {},
   "source": [
    "Q4. Categorise the following datasets with respect to quantitative and qualitative data types:\n",
    "(i) Grading in exam: A+, A, B+, B, C+, C, D, E\n",
    "(ii) Colour of mangoes: yellow, green, orange, red\n",
    "(iii) Height data of a class: [178.9, 179, 179.5, 176, 177.2, 178.3, 175.8,...]\n",
    "(iv) Number of mangoes exported by a farm: [500, 600, 478, 672, ...]"
   ]
  },
  {
   "cell_type": "markdown",
   "id": "3ef40e5c-2673-4946-866e-66cf6485e78c",
   "metadata": {},
   "source": [
    "Quantitative  :(i) Height data of a class: [178.9, 179, 179.5, 176, 177.2, 178.3, 175.8,...]        \n",
    "               (ii) Number of mangoes exported by a farm: [500, 600, 478, 672, ...]    \n",
    "               \n",
    "Qualitative   : (i) Grading in exam: A+, A, B+, B, C+, C, D, E\n",
    "                (ii) Colour of mangoes: yellow, green, orange, red"
   ]
  },
  {
   "cell_type": "markdown",
   "id": "2fbf8731-1583-4041-94b3-4a92f56f8a2b",
   "metadata": {},
   "source": [
    "Q5. Explain the concept of levels of measurement and give an example of a variable for each level."
   ]
  },
  {
   "cell_type": "markdown",
   "id": "221e4a66-3798-4d3c-9007-54923b2dcadd",
   "metadata": {},
   "source": [
    "Levels of measurement, also known as scales of measurement or measurement scales, refer to the different ways in which data can be categorized or classified. There are four primary levels of measurement, each with its own characteristics and implications for data analysis. These levels are:\n",
    "\n",
    "1. **Nominal Level of Measurement:**\n",
    "   - At the nominal level, data is categorized into distinct categories or labels.\n",
    "   - Nominal data lacks a natural order or ranking; the categories are purely qualitative.\n",
    "   - Examples of nominal variables include:\n",
    "     - Eye color (categories: blue, brown, green, etc.)\n",
    "     - Types of fruits (categories: apple, banana, orange, etc.)\n",
    "     - Marital status (categories: married, single, divorced, etc.)\n",
    "\n",
    "2. **Ordinal Level of Measurement:**\n",
    "   - In the ordinal level, data can be ordered or ranked, but the intervals between values are not consistent or meaningful.\n",
    "   - Ordinal data represents relative differences in magnitude but doesn't provide precise measurements.\n",
    "   - Examples of ordinal variables include:\n",
    "     - Educational attainment (categories: high school, bachelor's degree, master's degree, Ph.D.)\n",
    "     - Likert scale for agreement (e.g., strongly agree, agree, neutral, disagree, strongly disagree)\n",
    "     - Socioeconomic status (categories: low-income, middle-income, high-income)\n",
    "\n"
   ]
  },
  {
   "cell_type": "markdown",
   "id": "666bdf96-6a93-42f7-a358-8c2b8698a001",
   "metadata": {},
   "source": [
    "Q6. Why is it important to understand the level of measurement when analyzing data? Provide an\n",
    "example to illustrate your answer."
   ]
  },
  {
   "cell_type": "markdown",
   "id": "e45471ea-bf79-4c17-a0d0-a7544dd548eb",
   "metadata": {},
   "source": [
    "Understanding the level of measurement when analyzing data is crucial because it determines the types of statistical analyses and operations that can be appropriately applied to the data. Failing to recognize the level of measurement can lead to incorrect interpretations and flawed conclusions.\n",
    "\n",
    "For example, consider a dataset measuring customer satisfaction on a scale of 1 (very dissatisfied) to 5 (very satisfied):\n",
    "\n",
    "1. If we treat this ordinal data as interval data and calculate the mean satisfaction score, it might not accurately represent the true central tendency, as the intervals between the values may not be equal.\n",
    "\n",
    "2. However, if we recognize it as ordinal data, we can use non-parametric statistical tests, like the median or Wilcoxon signed-rank test, which are better suited for this level of measurement, providing more meaningful insights into customer satisfaction.\n",
    "\n",
    "In summary, understanding the level of measurement ensures that the chosen statistical methods align with the data's characteristics, enhancing the validity and reliability of analyses and resulting in more accurate conclusions."
   ]
  },
  {
   "cell_type": "markdown",
   "id": "fbde62f1-284a-4be1-9552-b79968a04cd9",
   "metadata": {},
   "source": [
    "Q7. How nominal data type is different from ordinal data type."
   ]
  },
  {
   "cell_type": "markdown",
   "id": "34e9a2ec-f16d-439f-8f17-f06a33e5dc3c",
   "metadata": {},
   "source": [
    "Nominal data and ordinal data are both categorical data types, but they differ in terms of the level of information they convey and how they can be analyzed:\n",
    "\n",
    "**Nominal Data:**\n",
    "\n",
    "1. **Nature:** Nominal data consists of categories or labels with no inherent order or ranking among them. These categories represent distinct groups or classes.\n",
    "\n",
    "2. **Examples:** Eye color (blue, brown, green), types of fruits (apple, banana, orange), gender (male, female, non-binary), and marital status (married, single, divorced) are examples of nominal data.\n",
    "\n",
    "3. **Analysis:** Nominal data is typically analyzed using descriptive statistics like frequencies and proportions. Mode (most frequently occurring category) is a meaningful measure of central tendency for nominal data.\n",
    "\n",
    "**Ordinal Data:**\n",
    "\n",
    "1. **Nature:** Ordinal data, on the other hand, represents categories or labels with a meaningful order or ranking, but the intervals between categories are not consistent or precisely quantifiable. The order signifies relative differences, but not necessarily equal intervals.\n",
    "\n",
    "2. **Examples:** Educational attainment (high school, bachelor's degree, master's degree, Ph.D.), Likert scale responses (strongly agree, agree, neutral, disagree, strongly disagree), and socioeconomic status (low-income, middle-income, high-income) are examples of ordinal data.\n",
    "\n",
    "3. **Analysis:** Ordinal data can be analyzed using descriptive statistics, but it also allows for certain non-parametric statistical tests, such as the median (a meaningful measure of central tendency) and tests like the Mann-Whitney U test and Kruskal-Wallis test for group comparisons.\n",
    "\n"
   ]
  },
  {
   "cell_type": "markdown",
   "id": "43f6fa6c-89c6-4210-bc2f-b26beebce187",
   "metadata": {},
   "source": [
    "Q8. Which type of plot can be used to display data in terms of range?"
   ]
  },
  {
   "cell_type": "markdown",
   "id": "0a491499-00f9-4f9e-94b7-118501321ee1",
   "metadata": {},
   "source": [
    "A type of plot that can be used to display data in terms of range is a **box plot**, also known as a box-and-whisker plot. Box plots are particularly useful for visualizing the spread or distribution of data, including the minimum, maximum, median, quartiles, and potential outliers.\n",
    "\n",
    "Here's how a box plot works:\n",
    "\n",
    "- The box represents the interquartile range (IQR), which is the range between the first quartile (25th percentile) and the third quartile (75th percentile) of the data. It contains the middle 50% of the data.\n",
    "\n",
    "- The line inside the box represents the median (50th percentile) of the data.\n",
    "\n",
    "- The \"whiskers\" extend from the edges of the box to the minimum and maximum values within a defined range, often excluding outliers. The length of the whiskers is typically a multiple of the IQR.\n",
    "\n",
    "- Outliers, which are data points that fall outside a specified range or threshold, are plotted individually as points or asterisks.\n",
    "\n",
    "Box plots provide a clear visual summary of the data's spread and central tendency, making it easy to identify the range of values, the presence of outliers, and the symmetry or skewness of the distribution.\n",
    "\n",
    "Box plots are particularly helpful when comparing the ranges of different groups or categories within a dataset, allowing you to assess variation and differences effectively."
   ]
  },
  {
   "cell_type": "markdown",
   "id": "56bdecd0-bddc-404b-ab97-9bb6df8412c2",
   "metadata": {},
   "source": [
    "Q9. Describe the difference between descriptive and inferential statistics. Give an example of each\n",
    "type of statistics and explain how they are used."
   ]
  },
  {
   "cell_type": "markdown",
   "id": "196d15b3-6030-4369-9781-a2219db87ef1",
   "metadata": {},
   "source": [
    "**Descriptive Statistics** and **Inferential Statistics** are two branches of statistics that serve different purposes in data analysis:\n",
    "\n",
    "1. **Descriptive Statistics:**\n",
    "   - **Purpose:** Descriptive statistics aim to summarize and describe the main features of a dataset. They provide a concise and meaningful representation of the data to help you understand its characteristics.\n",
    "   - **Example:** Mean, median, mode, range, standard deviation, and histograms are all descriptive statistics. For instance, calculating the average (mean) score of students in a class provides a summary measure that represents the typical performance in that class.\n",
    "   - **Use:** Descriptive statistics are used to organize and simplify data, identify patterns, and communicate key insights. They are valuable for summarizing data to make it more manageable and interpretable.\n",
    "\n",
    "2. **Inferential Statistics:**\n",
    "   - **Purpose:** Inferential statistics, on the other hand, are used to make predictions, draw conclusions, or make inferences about a population based on a sample of data. They extend insights from a sample to a larger population.\n",
    "   - **Example:** Hypothesis testing, confidence intervals, and regression analysis are examples of inferential statistics. For instance, if you want to determine if a new drug is effective, you might conduct a study on a sample of patients and use inferential statistics to make statements about its effectiveness for the entire population of patients with that condition.\n",
    "   - **Use:** Inferential statistics are critical for making decisions, conducting research, and drawing broader conclusions. They help researchers and analysts assess the significance of relationships, test hypotheses, and make predictions about populations based on limited data.\n",
    "\n",
    "In summary, descriptive statistics provide a summary and understanding of data, while inferential statistics enable us to make inferences or decisions about populations based on sample data. Both types of statistics are essential in the field of statistics and data analysis, and they complement each other in providing insights into different aspects of data."
   ]
  },
  {
   "cell_type": "markdown",
   "id": "fb952046-49f5-4016-bf1c-0d3505dd6b6c",
   "metadata": {},
   "source": [
    "Q10. What are some common measures of central tendency and variability used in statistics? Explain\n",
    "how each measure can be used to describe a dataset."
   ]
  },
  {
   "cell_type": "code",
   "execution_count": null,
   "id": "cbf93aab-ab68-4752-9075-1f6f2d383c54",
   "metadata": {},
   "outputs": [],
   "source": []
  }
 ],
 "metadata": {
  "kernelspec": {
   "display_name": "Python 3 (ipykernel)",
   "language": "python",
   "name": "python3"
  },
  "language_info": {
   "codemirror_mode": {
    "name": "ipython",
    "version": 3
   },
   "file_extension": ".py",
   "mimetype": "text/x-python",
   "name": "python",
   "nbconvert_exporter": "python",
   "pygments_lexer": "ipython3",
   "version": "3.10.8"
  }
 },
 "nbformat": 4,
 "nbformat_minor": 5
}
